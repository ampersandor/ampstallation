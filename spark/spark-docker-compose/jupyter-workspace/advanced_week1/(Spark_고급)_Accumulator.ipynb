{
  "nbformat": 4,
  "nbformat_minor": 0,
  "metadata": {
    "colab": {
      "provenance": []
    },
    "kernelspec": {
      "name": "python3",
      "display_name": "Python 3"
    }
  },
  "cells": [
    {
      "cell_type": "code",
      "metadata": {
        "id": "NbT0rpGfVdiq",
        "colab": {
          "base_uri": "https://localhost:8080/"
        },
        "outputId": "fcbb10d6-dff0-45b4-beee-e45b6ceffd82"
      },
      "source": [
        "!pip install pyspark==3.3.1 py4j==0.10.9.5"
      ],
      "execution_count": null,
      "outputs": [
        {
          "output_type": "stream",
          "name": "stdout",
          "text": [
            "Looking in indexes: https://pypi.org/simple, https://us-python.pkg.dev/colab-wheels/public/simple/\n",
            "Requirement already satisfied: pyspark==3.3.1 in /usr/local/lib/python3.8/dist-packages (3.3.1)\n",
            "Requirement already satisfied: py4j==0.10.9.5 in /usr/local/lib/python3.8/dist-packages (0.10.9.5)\n"
          ]
        }
      ]
    },
    {
      "cell_type": "code",
      "metadata": {
        "id": "3vm6tgcPXdnR"
      },
      "source": [
        "from pyspark.sql import SparkSession\n",
        "\n",
        "spark = SparkSession.builder\\\n",
        "        .master(\"local[*]\")\\\n",
        "        .appName('PySpark Accumulator')\\\n",
        "        .getOrCreate()"
      ],
      "execution_count": null,
      "outputs": []
    },
    {
      "cell_type": "code",
      "source": [
        "from pyspark.sql.functions import *\n",
        "from pyspark.sql.types import *"
      ],
      "metadata": {
        "id": "LxqHgqSJ6aTy"
      },
      "execution_count": null,
      "outputs": []
    },
    {
      "cell_type": "code",
      "source": [
        "data_list = [ \n",
        "    (\"California\", \"Sunnyvale\", 9511), \n",
        "    (\"California\", \"Mountain View\", 94111),\n",
        "    (\"California\", \"Cupertino\", 94123),\n",
        "    (\"California\", \"San Jose\", 951) \n",
        "]\n",
        "\n",
        "df = spark.createDataFrame(data_list) \\\n",
        "    .toDF(\"state\", \"city\", \"zipcode\")"
      ],
      "metadata": {
        "id": "hQKgEOl16OHH"
      },
      "execution_count": null,
      "outputs": []
    },
    {
      "cell_type": "code",
      "source": [
        "df.show()"
      ],
      "metadata": {
        "colab": {
          "base_uri": "https://localhost:8080/"
        },
        "id": "He7GNy1t6zNm",
        "outputId": "dd311e58-aabf-42de-edfe-73114ae91305"
      },
      "execution_count": null,
      "outputs": [
        {
          "output_type": "stream",
          "name": "stdout",
          "text": [
            "+----------+-------------+-------+\n",
            "|     state|         city|zipcode|\n",
            "+----------+-------------+-------+\n",
            "|California|    Sunnyvale|   9511|\n",
            "|California|Mountain View|  94111|\n",
            "|California|    Cupertino|  94123|\n",
            "|California|     San Jose|    951|\n",
            "+----------+-------------+-------+\n",
            "\n"
          ]
        }
      ]
    },
    {
      "cell_type": "code",
      "source": [
        "bad_zipcodes = spark.sparkContext.accumulator(0)"
      ],
      "metadata": {
        "id": "QbRiAuNE60zo"
      },
      "execution_count": null,
      "outputs": []
    },
    {
      "cell_type": "code",
      "source": [
        "def handle_bad_zipcode(c: int) -> int:\n",
        "    if len(str(c)) != 5:\n",
        "        bad_zipcodes.add(1)\n",
        "        return None\n",
        "    return c"
      ],
      "metadata": {
        "id": "IMPvilRa7bmr"
      },
      "execution_count": null,
      "outputs": []
    },
    {
      "cell_type": "code",
      "source": [
        "spark.udf.register(\"handle_bad_zipcode\", handle_bad_zipcode, IntegerType())"
      ],
      "metadata": {
        "colab": {
          "base_uri": "https://localhost:8080/"
        },
        "id": "ExFC8JTl65Gd",
        "outputId": "24787f62-aeb8-4654-e5f6-17e22e73b6c5"
      },
      "execution_count": null,
      "outputs": [
        {
          "output_type": "execute_result",
          "data": {
            "text/plain": [
              "<function __main__.handle_bad_zipcode(c: int) -> int>"
            ]
          },
          "metadata": {},
          "execution_count": 8
        }
      ]
    },
    {
      "cell_type": "code",
      "source": [
        "df.withColumn(\"corrected_zipcode\", expr(\"handle_bad_zipcode(zipcode)\")) \\\n",
        "        .show()"
      ],
      "metadata": {
        "colab": {
          "base_uri": "https://localhost:8080/"
        },
        "id": "h1JkVnLe69l_",
        "outputId": "f382a06e-3537-44be-c999-612af9c3ec46"
      },
      "execution_count": null,
      "outputs": [
        {
          "output_type": "stream",
          "name": "stdout",
          "text": [
            "+----------+-------------+-------+-----------------+\n",
            "|     state|         city|zipcode|corrected_zipcode|\n",
            "+----------+-------------+-------+-----------------+\n",
            "|California|    Sunnyvale|   9511|             null|\n",
            "|California|Mountain View|  94111|            94111|\n",
            "|California|    Cupertino|  94123|            94123|\n",
            "|California|     San Jose|    951|             null|\n",
            "+----------+-------------+-------+-----------------+\n",
            "\n"
          ]
        }
      ]
    },
    {
      "cell_type": "code",
      "source": [
        "print(\"Bad Record Count:\" + str(bad_zipcodes.value))"
      ],
      "metadata": {
        "colab": {
          "base_uri": "https://localhost:8080/"
        },
        "id": "VBG0ZU6T7KMB",
        "outputId": "f991ded2-9560-430c-c79a-e53442bcb69e"
      },
      "execution_count": null,
      "outputs": [
        {
          "output_type": "stream",
          "name": "stdout",
          "text": [
            "Bad Record Count:2\n"
          ]
        }
      ]
    },
    {
      "cell_type": "code",
      "source": [
        "df.withColumn(\"corrected_zipcode\", expr(\"handle_bad_zipcode(zipcode)\")). \\\n",
        "    select(\"state\", \"city\", \"corrected_zipcode\"). \\\n",
        "    withColumnRenamed(\"corrected_zipcode\", \"zipcode\").show()"
      ],
      "metadata": {
        "colab": {
          "base_uri": "https://localhost:8080/"
        },
        "id": "47Pe_-qxBf46",
        "outputId": "8bf6aa5d-3b7d-4c6e-a588-80d3932e8286"
      },
      "execution_count": null,
      "outputs": [
        {
          "output_type": "stream",
          "name": "stdout",
          "text": [
            "+----------+-------------+-------+\n",
            "|     state|         city|zipcode|\n",
            "+----------+-------------+-------+\n",
            "|California|    Sunnyvale|   null|\n",
            "|California|Mountain View|  94111|\n",
            "|California|    Cupertino|  94123|\n",
            "|California|     San Jose|   null|\n",
            "+----------+-------------+-------+\n",
            "\n"
          ]
        }
      ]
    },
    {
      "cell_type": "markdown",
      "source": [
        "DataFrame Foreach 예제"
      ],
      "metadata": {
        "id": "wb6cp48G78Lx"
      }
    },
    {
      "cell_type": "code",
      "source": [
        "data = [1, 2, 3, 4, 5]\n",
        "df_test = spark.createDataFrame(data, \"int\").toDF(\"value\")\n",
        "\n",
        "accumulator = spark.sparkContext.accumulator(0)\n",
        "\n",
        "def add_to_accumulator(row):\n",
        "    global accumulator\n",
        "    accumulator += row[\"value\"]\n",
        "\n",
        "df_test.foreach(add_to_accumulator)\n",
        "\n",
        "print(\"Accumulator value: \", accumulator.value)"
      ],
      "metadata": {
        "colab": {
          "base_uri": "https://localhost:8080/"
        },
        "id": "LwbI4Yu179zr",
        "outputId": "07d9a53a-0459-44cd-decf-18c34d3526cb"
      },
      "execution_count": null,
      "outputs": [
        {
          "output_type": "stream",
          "name": "stdout",
          "text": [
            "Accumulator value:  15\n"
          ]
        }
      ]
    },
    {
      "cell_type": "markdown",
      "source": [
        "앞서 Zipcode 예제를 DataFrame으로 해보기"
      ],
      "metadata": {
        "id": "pH2GLGnT8-2z"
      }
    },
    {
      "cell_type": "code",
      "source": [
        "accumulator_zipcode = spark.sparkContext.accumulator(0)\n",
        "\n",
        "def find_wrong_zipcode(row):\n",
        "    global accumulator_zipcode\n",
        "    accumulator_zipcode += 1 if len(str(row[\"zipcode\"])) != 5 else 0"
      ],
      "metadata": {
        "id": "N1Iff1PR8NzS"
      },
      "execution_count": null,
      "outputs": []
    },
    {
      "cell_type": "code",
      "source": [
        "df.foreach(find_wrong_zipcode)"
      ],
      "metadata": {
        "id": "LYSuelJa8a9N"
      },
      "execution_count": null,
      "outputs": []
    },
    {
      "cell_type": "code",
      "source": [
        "print(\"Wrong zipcode: \", accumulator_zipcode.value)"
      ],
      "metadata": {
        "colab": {
          "base_uri": "https://localhost:8080/"
        },
        "id": "xOGtQYAH8qFo",
        "outputId": "731395aa-5ca8-4020-c0fa-3f594dfd28bf"
      },
      "execution_count": null,
      "outputs": [
        {
          "output_type": "stream",
          "name": "stdout",
          "text": [
            "Wrong zipcode:  2\n"
          ]
        }
      ]
    }
  ]
}